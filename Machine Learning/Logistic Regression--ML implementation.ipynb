{
 "cells": [
  {
   "cell_type": "markdown",
   "metadata": {},
   "source": [
    "# Logistic regression\n",
    "### By Grzegorz Rybak"
   ]
  },
  {
   "cell_type": "markdown",
   "metadata": {},
   "source": [
    "### 1. Initialising the dataset"
   ]
  },
  {
   "cell_type": "code",
   "execution_count": 3,
   "metadata": {},
   "outputs": [],
   "source": [
    "import numpy as np\n",
    "\n",
    "np.random.seed(1345)"
   ]
  },
  {
   "cell_type": "markdown",
   "metadata": {},
   "source": [
    "The data for this model comes from the Wikipedia's logistic regression example dataset: https://en.wikipedia.org/wiki/Logistic_regression#Probability_of_passing_an_exam_versus_hours_of_study"
   ]
  },
  {
   "cell_type": "code",
   "execution_count": 4,
   "metadata": {},
   "outputs": [],
   "source": [
    "# ======== DATA LOAD ===========\n",
    "X = np.asarray ([[0.50], [0.75], [1.00], [1.25], [1.50], [1.75], [3.00], [4.75],[1.75], [3.25], [5.00],[2.00], [2.25], [2.50], [2.75], [3.50], [4.00], [4.25], [4.50], [5.50]])\n",
    "\n",
    "y= np.asarray([0, 0, 0, 0, 0, 0, 1, 0, 1, 0, 1,0,1,0,1,1,1,1,1,1])"
   ]
  },
  {
   "cell_type": "code",
   "execution_count": 5,
   "metadata": {},
   "outputs": [],
   "source": [
    "# ======= Shuffling and composing X/y train data ===============\n",
    "# We take the length of our data samples and shuffle the dataset indices\n",
    "num_of_data = len(y)\n",
    "indices = np.arange(0,num_of_data)\n",
    "np.random.shuffle(indices)\n",
    "\n",
    "X_train = X[indices]\n",
    "y_train = y[indices]\n",
    "y_train = y_train.reshape(-1,1) "
   ]
  },
  {
   "cell_type": "code",
   "execution_count": 6,
   "metadata": {},
   "outputs": [],
   "source": [
    "# ============== (OPTIONAL) Split data to train/test =============================\n",
    "# IDEA: Arbitrarily take 80% as our training data and 20% as test data. \n",
    "# NOTE: this is optional and for the sake of our task we don't need to have the Test dataset \n",
    "# (Also because for this particular problem we don't need to do any preprocessing for the data, thus one can easily plug in any value for the \"predict\" feature to see the prediction of the test passed. Also, because the dataset is so small, including those 4 samples gives us 5% smaller value in the loss! )\n",
    "# Feel free to uncomment the code if you otherwise wish to have the train/test split. \n",
    "# holdout_rate = int(num_of_data*.2)\n",
    "# train_data_indices = indices[:-holdout_rate] \n",
    "# test_data_indices = indices[-holdout_rate:]\n",
    "\n",
    "# X_train = X[train_data_indices]\n",
    "# X_test = X[test_data_indices]\n",
    "\n",
    "# Split the targets into training/testing sets\n",
    "# y_train = y[train_data_indices]\n",
    "# y_test = y[test_data_indices]\n",
    "\n",
    "# y_train = y_train.reshape(-1,1) \n",
    "# y_test = y_test.reshape(-1,1)"
   ]
  },
  {
   "cell_type": "markdown",
   "metadata": {},
   "source": [
    "### 2. Logistic Regression  "
   ]
  },
  {
   "cell_type": "markdown",
   "metadata": {},
   "source": [
    "Disclaimer: please note the following logistic regression code was heavily inspired by an implementation of the logistic regression for the Iris dataset found here: https://blog.goodaudience.com/logistic-regression-from-scratch-in-numpy-5841c09e425f"
   ]
  },
  {
   "cell_type": "code",
   "execution_count": 24,
   "metadata": {},
   "outputs": [],
   "source": [
    "# ============ LOGISTIC REGRESSION =============\n",
    "class LogisticRegression():\n",
    "    def __init__(self, no_max_epochs:bool = False, num_of_max_epochs:int=1000000, learning_rate:float = 0.001, epsilon:float =0.005, **kwargs):\n",
    "        self.no_max_epochs = no_max_epochs\n",
    "        self.num_of_max_epochs = num_of_max_epochs\n",
    "        self.learning_rate = learning_rate\n",
    "        self.epsilon = epsilon\n",
    "        self.saved_loss_values = []\n",
    "        # IDEA: Adding \"**kwargs\" allows to easily add other params to the class from here in future class versions without breaking changes (like class call args order)\n",
    "        # .... (future optional params obtained through **kwargs )  \n",
    "        # Initialise variables for needed for later\n",
    "\n",
    "    def predict(self, input_x):\n",
    "        try:\n",
    "            z = np.matmul(input_x, self.W) + self.b\n",
    "            prediction = self.sigmoid(z)\n",
    "            return self.decision_boundary(prediction)\n",
    "        except AttributeError:\n",
    "            print('You can only call predict method AFTER the fit method.')\n",
    "        \n",
    "\n",
    "    def fit(self,x, y, **kwargs):\n",
    "        self.x = x\n",
    "        self.y = y\n",
    "        # This if for convenience only, if one decides to provide these methods at the fitting level instead of the initialisation level, we override these settings initialised at the class instantiation. \n",
    "        if 'num_of_max_epochs' in kwargs:\n",
    "            self.num_of_max_epochs = kwargs['num_of_max_epochs']\n",
    "        if 'no_max_epochs' in kwargs and type(kwargs['no_max_epochs']) is bool:\n",
    "            self.no_max_epochs = kwargs['no_max_epochs']\n",
    "        # ========== Fit: initialisation part ============================\n",
    "        # bias, weight & learning rate initialisation \n",
    "        last_dim_shape = x.shape[-1]\n",
    "        # IDEA: W is \"Weights\", weights represent Thetas(θj). \n",
    "        # the number of Thetas (θ1,θ2,..θn, excluding the θ0) depends on the number of features of the each datapoint \n",
    "        # in the X dataset. In the study/result example, there is only 1 theta (θ1, again, not counting θ0) as the \n",
    "        # shape of Data is (20,1) (twenty samples, 1 feature each), whereas the Iris dataset would have 4 Thetas \n",
    "        # because of shape (150,4)   \n",
    "        W = np.zeros((last_dim_shape,1))\n",
    "        # IDEA: b is \"Bias\", Bias represents the Theta0 (θ0) - as the x0 is 1 then the theta0 is always an array.shape == (1,1)  \n",
    "        b = np.zeros((1,1))\n",
    "        lr = self.learning_rate\n",
    "\n",
    "        m = len(y) #i.e. num of all data in training \n",
    "\n",
    "        # IDEA: Initialise the \"old_loss\" variable with arbitrarily huge loss. \n",
    "        # This will be used to compare every 5 epochs with the newest loss to see the loss converged.\n",
    "        old_loss = 1000\n",
    "        # IDEA: Epsilon will be used in determining if the loss has converged; If the difference between the old_loss and current loss will be smaller or equal to epsilon, we will treat the gradient decent to converged. \n",
    "        _epsilon = self.epsilon\n",
    "\n",
    "        # ============= Fit: Gradient Decent part =========================\n",
    "\n",
    "        epoch = 0\n",
    "        # \"While True\" -> Until our loss doesn't converge... \n",
    "        while True:\n",
    "            # Disclaimer: the following 8 lines of code heavily follow the code found in the article\n",
    "            #  provided in the disclaimer at the beginning of the section.              \n",
    "            Z = np.matmul(x, W) + b\n",
    "            prediction = self.sigmoid(Z)\n",
    "            loss = self.loss_function(y,prediction)\n",
    "            delta_Z = prediction - y\n",
    "            delta_W = 1/m *  np.matmul( x.T , delta_Z )\n",
    "            delta_b = np.sum(delta_Z)\n",
    "\n",
    "            W = W - lr * delta_W\n",
    "            b = b - lr * delta_b\n",
    "\n",
    "            # Every epoch save the loss value.             \n",
    "            self.saved_loss_values.append(loss)\n",
    "            # IDEA: Only after 50000 we start checking if the function converged...\n",
    "            if epoch > 100:\n",
    "                # IDEA: Every odd 5 epochs we save the \"old loss\"... \n",
    "                if epoch % 5 == 0 and epoch % 10 != 0 : \n",
    "                    old_loss = loss\n",
    "                # Then, every \"10th\" epoch check if the \"old_loss\" from 5 epochs before matches \n",
    "                # with the newest loss (to have bigger confidence in results, I check 5 losses \"away\" instead of ones directy after each other) \n",
    "                if epoch % 10 == 0:\n",
    "                    if self.has_converged(old_loss, loss, _epsilon):\n",
    "                        break\n",
    "            if  self.no_max_epochs is not None and epoch > self.num_of_max_epochs:\n",
    "                break\n",
    "            epoch += 1\n",
    "\n",
    "        # =========== Fit: Save results withing the class ===========\n",
    "        self.Z = Z\n",
    "        self.W = W \n",
    "        self.b = b\n",
    "        self.epochs_executed = epoch\n",
    "        self.train_predictions = prediction\n",
    "        print(f\"Fitting completed on epoch:{epoch}\")\n",
    "        return prediction, self.saved_loss_values\n",
    "\n",
    "    def print_saved_loss(self):\n",
    "        for val in self.saved_loss_values:\n",
    "            print (val)\n",
    "\n",
    "    def print_train_data_predictions(self):\n",
    "        try:\n",
    "            for prediction,true_label,study_time in zip(self.train_predictions, self.y, self.x):\n",
    "                y_pred = self.decision_boundary(prediction)\n",
    "                print(f' Study time: {study_time} | Predicted: {y_pred} | Actual: {true_label} ' )\n",
    "        except AttributeError:\n",
    "            print('You can only call this method AFTER the fit method.')\n",
    "\n",
    "    def print_trained_parameter_values(self):\n",
    "        print (f'\"trained\" bias (theta 0): {self.b} ')\n",
    "        print ('\"trained\" weights (thetas 1,2..n):')\n",
    "        for weight, index in enumerate(self.W, 1):\n",
    "            print(f\"weight (theta) {index}: {weight} \", end = '')\n",
    "            \n",
    "\n",
    "    @staticmethod \n",
    "    def sigmoid(z):\n",
    "        return 1/(1 + np.e**(-z) )\n",
    "\n",
    "    @staticmethod \n",
    "    def loss_function(y, y_pred):\n",
    "        return -np.mean(y * np.log(y_pred) \\\n",
    "            + (1-y) * np.log(1 - y_pred ) )\n",
    "\n",
    "    @staticmethod\n",
    "    def has_converged(old_loss,new_loss, epsilon):\n",
    "        if old_loss - new_loss <= epsilon:\n",
    "            return True\n",
    "        return False\n",
    "    @staticmethod\n",
    "    def decision_boundary(prediction):\n",
    "        if prediction >= 0.5:\n",
    "            return 1 \n",
    "        else:\n",
    "            return 0 "
   ]
  },
  {
   "cell_type": "markdown",
   "metadata": {},
   "source": [
    "### 3. Run the logistic regression on \"study_time/exam_result\" dataset "
   ]
  },
  {
   "cell_type": "code",
   "execution_count": 8,
   "metadata": {},
   "outputs": [
    {
     "name": "stdout",
     "output_type": "stream",
     "text": [
      "Fitting completed on epoch:50010\n"
     ]
    }
   ],
   "source": [
    "# ========= Fit the data and run it all ==================\n",
    "logReg = LogisticRegression()\n",
    "predictions, saved_loss_vals = logReg.fit(X_train,y_train)"
   ]
  },
  {
   "cell_type": "markdown",
   "metadata": {},
   "source": [
    "### 4. Results Analysis  "
   ]
  },
  {
   "cell_type": "code",
   "execution_count": 9,
   "metadata": {},
   "outputs": [
    {
     "name": "stdout",
     "output_type": "stream",
     "text": [
      " Study time: [1.75] | Predicted: 0 | Actual: [1] \n",
      " Study time: [1.25] | Predicted: 0 | Actual: [0] \n",
      " Study time: [5.] | Predicted: 1 | Actual: [1] \n",
      " Study time: [2.5] | Predicted: 0 | Actual: [0] \n",
      " Study time: [4.25] | Predicted: 1 | Actual: [1] \n",
      " Study time: [4.] | Predicted: 1 | Actual: [1] \n",
      " Study time: [4.75] | Predicted: 1 | Actual: [0] \n",
      " Study time: [2.] | Predicted: 0 | Actual: [0] \n",
      " Study time: [2.25] | Predicted: 0 | Actual: [1] \n",
      " Study time: [1.5] | Predicted: 0 | Actual: [0] \n",
      " Study time: [2.75] | Predicted: 1 | Actual: [1] \n",
      " Study time: [0.75] | Predicted: 0 | Actual: [0] \n",
      " Study time: [4.5] | Predicted: 1 | Actual: [1] \n",
      " Study time: [5.5] | Predicted: 1 | Actual: [1] \n",
      " Study time: [3.25] | Predicted: 1 | Actual: [0] \n",
      " Study time: [3.5] | Predicted: 1 | Actual: [1] \n",
      " Study time: [0.5] | Predicted: 0 | Actual: [0] \n",
      " Study time: [1.75] | Predicted: 0 | Actual: [0] \n",
      " Study time: [3.] | Predicted: 1 | Actual: [1] \n",
      " Study time: [1.] | Predicted: 0 | Actual: [0] \n"
     ]
    }
   ],
   "source": [
    "logReg.print_train_data_predictions()"
   ]
  },
  {
   "cell_type": "markdown",
   "metadata": {},
   "source": [
    "#### 4.1 Plotting the results  "
   ]
  },
  {
   "cell_type": "code",
   "execution_count": 12,
   "metadata": {},
   "outputs": [],
   "source": [
    "import matplotlib.pyplot as plt\n",
    "def plotFunc(epochs_num, train_loss):\n",
    "    plt.clf()  #Clear any previous plot\n",
    "    label = 'Training loss'\n",
    "    plt.plot(epochs_num, train_loss, 'b', label =label)\n",
    "    plt.xlabel('Epochs')\n",
    "    plt.title(\"Training loss\")\n",
    "    plt.ylabel('Loss')\n",
    "    plt.legend()"
   ]
  },
  {
   "cell_type": "code",
   "execution_count": 14,
   "metadata": {},
   "outputs": [
    {
     "data": {
      "image/png": "[encoded data removed]",
      "text/plain": [
       "<Figure size 432x288 with 1 Axes>"
      ]
     },
     "metadata": {
      "needs_background": "light"
     },
     "output_type": "display_data"
    }
   ],
   "source": [
    "num_of_epochs = logReg.epochs_executed\n",
    "epochs_formatted = [i for i in range(num_of_epochs)]\n",
    "loss_values = saved_loss_vals\n",
    "plotFunc(epochs_formatted,loss_values[:-1])"
   ]
  },
  {
   "cell_type": "markdown",
   "metadata": {},
   "source": [
    "# Question II (code)"
   ]
  },
  {
   "cell_type": "markdown",
   "metadata": {},
   "source": [
    "Question description: What happens if α is too large? How does this affect the loss function?Plot the loss function with respect to iterations to illustrate this point."
   ]
  },
  {
   "cell_type": "code",
   "execution_count": 38,
   "metadata": {},
   "outputs": [
    {
     "name": "stdout",
     "output_type": "stream",
     "text": [
      "Fitting completed on epoch:110\n"
     ]
    }
   ],
   "source": [
    "logRegWithBigAlpha = LogisticRegression(learning_rate=1)\n",
    "_, saved_loss_vals = logRegWithBigAlpha.fit(X_train,y_train)"
   ]
  },
  {
   "cell_type": "code",
   "execution_count": 39,
   "metadata": {},
   "outputs": [
    {
     "data": {
      "image/png": "[encoded data removed]",
      "text/plain": [
       "<Figure size 432x288 with 1 Axes>"
      ]
     },
     "metadata": {
      "needs_background": "light"
     },
     "output_type": "display_data"
    }
   ],
   "source": [
    "num_of_epochs = logRegWithBigAlpha.epochs_executed\n",
    "epochs_formatted = [i for i in range(num_of_epochs)]\n",
    "loss_values = saved_loss_vals\n",
    "plotFunc(epochs_formatted,loss_values[:-1])"
   ]
  },
  {
   "cell_type": "markdown",
   "metadata": {},
   "source": [
    "# Question 3 (pseudocode)\n",
    "Question description: Assume that you are applying logistic regression to the iris (flower)\n",
    "dataset.\n",
    "1.  How would your hypothesis function change in this case and why?\n",
    "2.  How would you utilize your implementation of logistic regression in order to\n",
    "perform (multi-class) classification on the iris dataset? Include some pseudocode\n",
    "while discussing your approach.\n",
    "(See the report for the answers the below pseudocode supports)."
   ]
  },
  {
   "cell_type": "code",
   "execution_count": null,
   "metadata": {},
   "outputs": [],
   "source": [
    "# .... inside the LogisticRegression class .... \n",
    " def fit(self,x, y, **kwargs):\n",
    "        last_dim_shape = x.shape[-1]\n",
    "        W = np.zeros((last_dim_shape,1))\n",
    "        b = np.zeros((1,1))\n",
    "        lr = self.learning_rate\n",
    "        m = len(y) \n",
    "        \n",
    "        #  ===== Grouping method ====\n",
    "        x0,y0,x1,y1,x2,y2 = [],[],[],[],[],[]\n",
    "        # This would need another for loop layer to be futher generalised instead of only 3 classes in the Iris dataset.         \n",
    "        for _x,_y in zip(x,y):\n",
    "            if _y == 0:\n",
    "                x0.append(_x)\n",
    "                y0.append(_y)\n",
    "            elif _y == 1:\n",
    "                x1.append(_x)\n",
    "                y1.append(_y)\n",
    "            else:\n",
    "                x2.append(_x)\n",
    "                y2.append(_y)\n",
    "                \n",
    "        epoch = 0\n",
    "        while True:\n",
    "            all3Preds = []\n",
    "            for class_num in range(allClasses): \n",
    "                current_x = x0 + x1 + x2\n",
    "                _y[class_num] = len(y[allOther1] + y[allOther2])\n",
    "                _y[class_num] = np.ones((_y)) \n",
    "                current_y = y[class_num] + _y[class_num]\n",
    "                Z = np.matmul(current_x, W) + b\n",
    "                _prediction = self.sigmoid(Z)\n",
    "                all3Preds.append(_prediction)\n",
    "            prediction = chooseTheHighestPrediction(all3Preds) #This could be another helper function. \n",
    "#           .... THEN THE REST OF THE ACTUAL CODE .... \n",
    "#             loss = self.loss_function(y,prediction)\n",
    "#             delta_Z = prediction - y\n",
    "#             delta_W = 1/m *  np.matmul( x.T , delta_Z )\n",
    "#             delta_b = np.sum(delta_Z)\n",
    "\n",
    "#             W = W - lr * delta_W\n",
    "#             b = b - lr * delta_b\n",
    "\n",
    "#             # Every epoch save the loss value.             \n",
    "#             self.saved_loss_values.append(loss)\n",
    "#             # IDEA: Only after 50000 we start checking if the function converged...\n",
    "#             if epoch > 100:\n",
    "#                 # IDEA: Every odd 5 epochs we save the \"old loss\"... \n",
    "#                 if epoch % 5 == 0 and epoch % 10 != 0 : \n",
    "#                     old_loss = loss\n",
    "#                 # Then, every \"10th\" epoch check if the \"old_loss\" from 5 epochs before matches \n",
    "#                 # with the newest loss (to have bigger confidence in results, I check 5 losses \"away\" instead of ones directy after each other) \n",
    "#                 if epoch % 10 == 0:\n",
    "#                     if self.has_converged(old_loss, loss, _epsilon):\n",
    "#                         break\n",
    "#             if  self.no_max_epochs is not None and epoch > self.num_of_max_epochs:\n",
    "#                 break\n",
    "#             epoch += 1\n",
    "        "
   ]
  }
 ],
 "metadata": {
  "kernelspec": {
   "display_name": "Python 3",
   "language": "python",
   "name": "python3"
  },
  "language_info": {
   "codemirror_mode": {
    "name": "ipython",
    "version": 3
   },
   "file_extension": ".py",
   "mimetype": "text/x-python",
   "name": "python",
   "nbconvert_exporter": "python",
   "pygments_lexer": "ipython3",
   "version": "3.6.8"
  }
 },
 "nbformat": 4,
 "nbformat_minor": 2
}
