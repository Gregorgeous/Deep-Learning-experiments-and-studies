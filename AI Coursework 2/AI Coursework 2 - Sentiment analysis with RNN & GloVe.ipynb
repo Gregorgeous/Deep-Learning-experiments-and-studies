{
 "cells": [
  {
   "cell_type": "markdown",
   "metadata": {},
   "source": [
    "# Sentiment analysing RNN model "
   ]
  },
  {
   "cell_type": "markdown",
   "metadata": {},
   "source": [
    "## Main objective: compare both approaches for working with text data in Deep learning: RNN-based network and a 1D convnet. \n",
    "### Evaluation task: performing a binary sentiment analysis based on amazon customer reviews dataset from Kaggle. \n",
    "### Notable mentions: both networks will use pre-trained GloVe word embeddings (using a special particular version of GloVe that is created from Twitter users data)  "
   ]
  },
  {
   "cell_type": "markdown",
   "metadata": {},
   "source": [
    " I have decided to use the \"Amazon Reviews for Sentiment Analysis\" dataset variation I found on Kaggle: https://www.kaggle.com/bittlingmayer/amazonreviews/home. The variation is that I decided to use the data in the original format made by Xiang Zhang , instead of the FastText format provided in Kaggle. The original dataset consists of 1.47GB of training data (10800000 labelled train samples) and 167 MB of Test data (1200000 labelled test samples). Data is structured in the following way: "
   ]
  },
  {
   "cell_type": "markdown",
   "metadata": {},
   "source": [
    "| Sentiment |  Title  | Description|\n",
    "|------|------|------|\n",
    "|2|| Great CD || My lovely Pat has one of the GREAT voices of her generation. I have listened to this CD for YEARS and I still LOVE IT|"
   ]
  },
  {
   "cell_type": "markdown",
   "metadata": {},
   "source": [
    "#### 2 design decisions coming from the way the data in the dataset is structured: "
   ]
  },
  {
   "cell_type": "markdown",
   "metadata": {},
   "source": [
    "#### 1) 1-indexed labels: \n",
    "In the dataset \"2\" stands for \"positive\" and 1 for \"negative\" (i.e. the values are 1-indexed, not 0-index like normal booleans) This is a characteristic we will need to account for during our preprocessing stage. "
   ]
  },
  {
   "cell_type": "markdown",
   "metadata": {},
   "source": [
    "#### 2) two separate text columns in each review: \n",
    "Another important decision is how should we go about the fact that we have actually 2 columns with the text: the \"title\" and the \"description\" columns. I have decided to use the approach of concatenating both into one element during our preprocessing stage. This way, the title content is the first sentence in each of the reviews. This is something we should have in mind when we reach the stage of tokenizing, as we might want the title sentence (which is likely to capture the overal sentiment of the review most concisely) to be padded and tokenized in such a way it's the first in our 'review'. This piece of information might be especially useful for the RNN, as it is sensitive for the sequentiality of our review,thus, the most essential sentence in the front might make a difference"
   ]
  },
  {
   "cell_type": "markdown",
   "metadata": {},
   "source": [
    "## Model 1:  Baseline RNN + word embedding layer model   "
   ]
  },
  {
   "cell_type": "markdown",
   "metadata": {},
   "source": [
    "### Step 1: Initialising the raw-form train and test datasets "
   ]
  },
  {
   "cell_type": "markdown",
   "metadata": {},
   "source": [
    "#### Step 1.1.: loading our dataset into the project. "
   ]
  },
  {
   "cell_type": "markdown",
   "metadata": {},
   "source": [
    "As mentioned above, we are dealing with a much larger file than we have used on the labs and book examples. Therefore, I decided to rely on a popular data science package called **Pandas** to load my file in the CSV format. I have provided the pandas \"read csv\" method with the \"sep\" param for denoting that we want to delimit our pieces of data on the commas (as the CSV format stands for \"comma-separated values file\") and with the \"names\" param, where I specified each column's name, which we will use during the pre-processing stage."
   ]
  },
  {
   "cell_type": "code",
   "execution_count": 1,
   "metadata": {},
   "outputs": [],
   "source": [
    "# Step 1.1: initialise directory paths and load the amazon dataset \n",
    "\n",
    "import os\n",
    "import pandas as pd\n",
    "\n",
    "project_directory = 'C:\\\\Users\\\\greg\\\\Desktop\\\\My AI Repo'\n",
    "# print (project_directory)\n",
    "TEMPTestingfile = project_directory +\"\\\\mytesting123.csv\"  \n",
    "\n",
    "amazon_dataset_dir = os.path.join(project_directory, 'Datasets\\\\amazon_review_polarity_csv')\n",
    "# Step 1 load/process the data from the downloaded dataset. \n",
    "# NOTE: the right one:\n",
    "amazon_train = pd.read_csv(f'{amazon_dataset_dir}\\\\train.csv',names=['sentiment', 'title','description'],sep=',')\n",
    "amazon_test = pd.read_csv(f'{amazon_dataset_dir}\\\\test.csv',names=['sentiment', 'title','description'],sep=',')\n",
    "# NOTE: testing file:\n",
    "# amazon_train = pd.read_csv(TEMPTestingfile,  names=['sentiment', 'title','description'],sep=',')\n",
    "# amazon_test = pd.read_csv(TEMPTestingfile,  names=['sentiment', 'title','description'],sep=',')\n"
   ]
  },
  {
   "cell_type": "markdown",
   "metadata": {},
   "source": [
    "This process itself takes ~1.5 min and shows with how large data we deal with  "
   ]
  },
  {
   "cell_type": "markdown",
   "metadata": {},
   "source": [
    "#### Step 1.2.:Creating a raw-text pre-processing function. "
   ]
  },
  {
   "cell_type": "markdown",
   "metadata": {},
   "source": [
    "Now, we need to store our loaded data in form of a list (array) for both the labels and the data of train and test datasets.\n",
    "It is arguably the most tricky part of this coursework, therefore, let us explain it thoroughly."
   ]
  },
  {
   "cell_type": "markdown",
   "metadata": {},
   "source": [
    "##### a) Iterating through the loaded CSV  "
   ]
  },
  {
   "cell_type": "markdown",
   "metadata": {},
   "source": [
    "\"Pandas\" provides a method \"dataset_name.**iterrows()**\". We will use this method to our advantage to iterate over all the rows in the dataset"
   ]
  },
  {
   "cell_type": "markdown",
   "metadata": {},
   "source": [
    "##### b) Getting column values  "
   ]
  },
  {
   "cell_type": "markdown",
   "metadata": {},
   "source": [
    " We can obtain the values of each column by specifying row[\"name_of_column\"] thanks to providing the parameter 'names' when loading the csv."
   ]
  },
  {
   "cell_type": "markdown",
   "metadata": {},
   "source": [
    "##### c) Correctly classifying the label "
   ]
  },
  {
   "cell_type": "markdown",
   "metadata": {},
   "source": [
    "As mentioned at the beginning of the document, due to how our dataset is structured, we need to correctly classify what is a 'positive' and a 'negative' review. To do that, I created a conditional which checks the value of the row[\"sentiment\"] - if it's \"1\" it means it's a negative, thus we'll append 0 to our labels array. If it's \"2\" it's the otherwise.   "
   ]
  },
  {
   "cell_type": "markdown",
   "metadata": {},
   "source": [
    "##### d) Defining the approach for how to treat 2 columns \"title\" and \"description\" "
   ]
  },
  {
   "cell_type": "markdown",
   "metadata": {},
   "source": [
    "As mentioned, I decided to use just concatenate the both columns to one big string. "
   ]
  },
  {
   "cell_type": "markdown",
   "metadata": {},
   "source": [
    "##### e) secureBlankData  "
   ]
  },
  {
   "cell_type": "markdown",
   "metadata": {},
   "source": [
    "During my work I run into a rather hard-to-debug problem I haven't accounted for: missing values in the dataset. This issue took a lot of my work time, mainly due to a very vague error description in the stack trace saying \"unable to concatenate 'float' with 'string' \". Indeed, blank values in the dataset (which happen to be 9 randomly missing title columns in the first 300000 rows) turned of out be parsed by Pandas as \"NaN\", which is a float data type, thus effectively preventing the code from string concatenation to the joined text value. \n",
    "I decided to fix that by creating a \"secureBlankData\" helper method that checks for any empty values and changes them to an empty string. "
   ]
  },
  {
   "cell_type": "markdown",
   "metadata": {},
   "source": [
    "##### f) Unbearable processing time:  "
   ]
  },
  {
   "cell_type": "markdown",
   "metadata": {},
   "source": [
    "To my dismay, the pre-processing time of storing both datasets into lists took ~30 min each time. I decided to regulate the size of the datasets stored (and thus pre-processed) with a variable \"restrictDataTo\" which I set by default to 150000."
   ]
  },
  {
   "cell_type": "markdown",
   "metadata": {},
   "source": [
    "##### f) Unbalanced data"
   ]
  },
  {
   "cell_type": "markdown",
   "metadata": {},
   "source": [
    "Finally, the trickiest problem. \n",
    "As I firstly encountered the dataset, I noticed that it was already randomly shuffled between 1s and 2s. I believed it to be a good thing only then realising that if we restrict the data stored, we will end up with unbalanced distribution of '1' and '0' labelled data. This is because the data in the dataset is randomly distributed. Therefore, despite there is an even distribution of '1' and '0' labelled data in overall, if we decided to take only a portion of the data, we might end up with not perfectly split data. "
   ]
  },
  {
   "cell_type": "markdown",
   "metadata": {},
   "source": [
    "As a solution to that problem, I created a series of conditionals that store the data in such a manner that omits some of the reviews if in that particular moment there's already more of them than the opposite-labelled ones. This way, with the cost of ommiting some of the reviews (which shouldn't be a big problem, since we decided to take a feasible portion of them anyway) , we can create an evenly-distributed dataset of positive and negative labels for both the train and the test set.   "
   ]
  },
  {
   "cell_type": "code",
   "execution_count": 2,
   "metadata": {},
   "outputs": [],
   "source": [
    "# Step 1.2: Create a pre-process function and the helper \"secureBlankData\" function \n",
    "def preprocessText(dataset, whichVariant:int = 1, restrictDataTo:int = 150000,trainOrTest:str = ''):\n",
    "    \"\"\"This function preprocess the data into train/test_labels and train/test_data. NOTE: @param whichVariant lets you choose 2 possible variants of the algo. 1 is the (default) variant which saves both the title and description as one big string chunk in the train data. 2 is for ...(TODO) \"\"\"\n",
    "    # restrictDataTo = restrictDataTo -1 #We're taking into account that array is 0-indexed. \n",
    "    _labels = []\n",
    "    _data = []\n",
    "    _zero_labels = 0 \n",
    "    _one_labels = 0 \n",
    "    _equal_half = int(restrictDataTo//2)\n",
    "\n",
    "    for row_index,row in dataset.iterrows():\n",
    "                \n",
    "        # NOTE: labels in our dataset are \"1\" for negative and \"2\" for positive (i.e. they're not 0-indexed but 1-indexed)\n",
    "        if row[\"sentiment\"] == 1:\n",
    "            if _zero_labels > _one_labels:\n",
    "                continue\n",
    "            _labels.append(0)\n",
    "            _zero_labels += 1\n",
    "        else: # i.e. if row[\"sentiment\"] == 2\n",
    "            if _one_labels > _zero_labels:\n",
    "                continue\n",
    "            _labels.append(1)\n",
    "            _one_labels += 1\n",
    "        \n",
    "        if whichVariant == 1:\n",
    "            # NOTE: this \" \" is soo important for our corect word tokenizaton.\n",
    "            title = row[\"title\"] \n",
    "            title = secureBlankData(title)\n",
    "            description =  row[\"description\"]\n",
    "            description = secureBlankData(description)\n",
    "            text = title + \" \" + description\n",
    "            _data.append(text)\n",
    "        else:\n",
    "            # FIXME: Test me !! Might have problems with bigger dimensionality, check it !!!\n",
    "            # FIXME: there are problems with wrong tokenization of the data with this variant so far!!\n",
    "            content = [row[\"title\"], row[\"description\"]]\n",
    "            _data.append(content)\n",
    "\n",
    "        if row_index >= restrictDataTo and _zero_labels == _one_labels and _zero_labels>=restrictDataTo/2 and  _one_labels>=restrictDataTo/2:\n",
    "            break\n",
    "\n",
    "    print(f\"Finished pre-processing {trainOrTest} data\")\n",
    "    print(f\"Number of negative-labelled data: {_zero_labels}\")\n",
    "    print(f\"Number of positive-labelled data: {_one_labels}\")\n",
    "    return _labels, _data\n",
    "\n",
    "def secureBlankData(data):\n",
    "    \"\"\"This function is for ensuring that if we ever loop over an empty data (e.g. no text in the title column) then we will safely change the NaN type of this data to just an empty string\"\"\"\n",
    "    if type(data) != str:\n",
    "        return ''\n",
    "    return data"
   ]
  },
  {
   "cell_type": "markdown",
   "metadata": {},
   "source": [
    "#### Step 1.3.:Calling the function. "
   ]
  },
  {
   "cell_type": "markdown",
   "metadata": {},
   "source": [
    "Finally, we can call this custom function for both the train and the test datasets."
   ]
  },
  {
   "cell_type": "code",
   "execution_count": 3,
   "metadata": {},
   "outputs": [
    {
     "name": "stdout",
     "output_type": "stream",
     "text": [
      "Finished pre-processing train data\n",
      "Number of negative-labelled data: 75000\n",
      "Number of positive-labelled data: 75000\n",
      "Finished pre-processing test data\n",
      "Number of negative-labelled data: 25000\n",
      "Number of positive-labelled data: 25000\n"
     ]
    }
   ],
   "source": [
    "# Step 1.3: store the pre-processed un-tokenized train/test data/labels.\n",
    "labels, train_data = preprocessText(amazon_train,trainOrTest='train', restrictDataTo= 150000) \n",
    "test_labels, test_data = preprocessText(amazon_test,trainOrTest='test', restrictDataTo= 50000)"
   ]
  },
  {
   "cell_type": "markdown",
   "metadata": {},
   "source": [
    "### Step 2.:Tokenizing the data. "
   ]
  },
  {
   "cell_type": "markdown",
   "metadata": {},
   "source": [
    "\"Like all other neural networks, deep-learning models don’t take as input raw text:\n",
    "they only work with numeric tensors. Vectorizing text is the process of transforming text\n",
    "into numeric tensors[...] Collectively, the different units into which you can break down text (words, charac-\n",
    "ters, or n-grams) are called tokens, and breaking text into such tokens is called tokeniza-\n",
    "tion.\" (F.Chollet, \"Deep Learning With Python\")"
   ]
  },
  {
   "cell_type": "markdown",
   "metadata": {},
   "source": [
    "Just like mentioned in the DLWP, we need to tokenise the data we have pre-processed and stored in our raw-version lists. To do that, I will use  the keras preprocessing Tokenizer class"
   ]
  },
  {
   "cell_type": "markdown",
   "metadata": {},
   "source": [
    "The following piece of code rather similar to what has been provided in the \"DLWP Notebook master\" in section \"6.1-using-word-embeddings\". I slightly modified the code and decided to use a bigger maxlen and max_words since I have a greatly bigger set of data to choose from. Notice also my hold out validation approach: because the way I created my processing, I was able to make an evenly-labelled dataset ( \"1-0-1-0 reviews etc.\"), therefore, my hold-out validation is balanced as well. Also, the size of my training data is sufficiently large to use 25% of it as my validation.     "
   ]
  },
  {
   "cell_type": "code",
   "execution_count": 4,
   "metadata": {},
   "outputs": [
    {
     "name": "stderr",
     "output_type": "stream",
     "text": [
      "Using TensorFlow backend.\n"
     ]
    },
    {
     "name": "stdout",
     "output_type": "stream",
     "text": [
      "Found 161900 unique tokens.\n",
      "========= Train labels ============\n",
      "[1 0 1 ... 1 1 0]\n",
      "Shape of data tensor: (150000, 150)\n",
      "Shape of label tensor: (150000,)\n"
     ]
    }
   ],
   "source": [
    "# Step 2: Tokenize the data:\n",
    "from keras.preprocessing.text import Tokenizer\n",
    "from keras.preprocessing.sequence import pad_sequences\n",
    "import numpy as np\n",
    "\n",
    "maxlen = 150  # We will cut reviews after 150 words\n",
    "\n",
    "max_words = 20000  # We will only consider the top 20,000 words in the dataset\n",
    "\n",
    "tokenizer = Tokenizer(num_words=max_words, lower=True)\n",
    "tokenizer.fit_on_texts(train_data)\n",
    "sequences = tokenizer.texts_to_sequences(train_data)\n",
    "word_index = tokenizer.word_index\n",
    "print('Found %s unique tokens.' % len(word_index))\n",
    "\n",
    "data = pad_sequences(sequences, maxlen=maxlen, padding='post', truncating='post')\n",
    "\n",
    "print(\"========= Train labels ============\")\n",
    "labels = np.asarray(labels)\n",
    "print(labels)\n",
    "# TODO: Here you should check if the distribution of the 0 & 1 labels is even !!\n",
    "print('Shape of data tensor:', data.shape)\n",
    "print('Shape of label tensor:', labels.shape)\n",
    "\n",
    "# NOTE: I use a simple hold-out validation. This is because I have plenty of data and the data is already shuffled in the dataset. \n",
    "training_samples = int(len(labels)//1.25)  \n",
    "validation_samples = len(labels) - training_samples \n",
    "\n",
    "x_train = data[:training_samples]\n",
    "y_train = labels[:training_samples]\n",
    "x_val = data[training_samples: training_samples + validation_samples]\n",
    "y_val = labels[training_samples: training_samples + validation_samples]"
   ]
  },
  {
   "cell_type": "markdown",
   "metadata": {},
   "source": [
    "### Step 3.:Preparing the GloVe word embedding "
   ]
  },
  {
   "cell_type": "markdown",
   "metadata": {},
   "source": [
    "The next step is to load the GloVe embedding and save it in our dictionary \"embeddings_index\". The embeddings_index after the preparation will consists of the string as a key in this dictionary (e.g. \"super\") and an N number of dimensions associated with this word in form of a float32 value (e.g. \"0.23194\" etc.) where N is the GloVe version we chose to work with. Each GloVe version has a \"XXd\" number in it's filename denoting how many dimensions are associated with words in the given GloVe version. "
   ]
  },
  {
   "cell_type": "markdown",
   "metadata": {},
   "source": [
    "I also decided to work with a specific GloVe version created through web scraping Twitter data tweets instead of the one using English dictionary or Wikipedia, as I believe it would be more related to the language amazon's customer reviews typically are made in "
   ]
  },
  {
   "cell_type": "code",
   "execution_count": 5,
   "metadata": {},
   "outputs": [
    {
     "name": "stdout",
     "output_type": "stream",
     "text": [
      "Found 1193514 word vectors.\n"
     ]
    }
   ],
   "source": [
    "# Step 3: load the GloVe dataset for word embeddings\n",
    "glove_dir = project_directory + \"\\\\Datasets\\\\glove.twitter.27B\"\n",
    "\n",
    "embeddings_index = {}\n",
    "# NOTE: I have 4 versions of GloVe on my machine, each different in size (and the number of words associated): \n",
    "# - glove.6B.25d.txt has .25GB size   \n",
    "# - glove.6B.50d.txt has .5GB size   \n",
    "# - glove.6B.100d.txt has 1GB size   \n",
    "# - glove.6B.200d.txt has 2GB size   \n",
    "whichGloveVersion = 25\n",
    "gloveFile = f\"glove.twitter.27B.{whichGloveVersion}d.txt\"\n",
    "with open(os.path.join(glove_dir, gloveFile),'r',encoding='utf-8') as f:\n",
    "    for line in f:\n",
    "        values = line.split()\n",
    "        word = values[0]\n",
    "        coefs = np.asarray(values[1:], dtype='float32')\n",
    "        embeddings_index[word] = coefs\n",
    "\n",
    "print('Found %s word vectors.' % len(embeddings_index))"
   ]
  },
  {
   "cell_type": "markdown",
   "metadata": {},
   "source": [
    "### Step 4.:create the embedding matrix from the GloVe dictionary"
   ]
  },
  {
   "cell_type": "markdown",
   "metadata": {},
   "source": [
    "This is a code for making an embedding matrix out of the GloVe dictionary we created in the previous step. I used the same code from the section \"6.1-using-word-embeddings\" from DLWP.  "
   ]
  },
  {
   "cell_type": "code",
   "execution_count": 6,
   "metadata": {},
   "outputs": [],
   "source": [
    "# Step 4: pre-process the GloVe\n",
    "# NOTE: embedding_dim needs to be set exactly to the number matching the \"whichGloveVersion\". \n",
    "# This is because the GloVe version defines how big is the dimensionality of each word in the given GloVe txt file.\n",
    "embedding_dim = 25\n",
    "\n",
    "embedding_matrix = np.zeros((max_words, embedding_dim))\n",
    "for word, i in word_index.items():\n",
    "    embedding_vector = embeddings_index.get(word)\n",
    "    if i < max_words:\n",
    "        if embedding_vector is not None:\n",
    "            # Words not found in embedding index will be all-zeros.\n",
    "            embedding_matrix[i] = embedding_vector"
   ]
  },
  {
   "cell_type": "markdown",
   "metadata": {},
   "source": [
    "### Step 5.: defining the RNN model\n"
   ]
  },
  {
   "cell_type": "markdown",
   "metadata": {},
   "source": [
    "I decided to use LSTM as my RNN model. I will rely on Keras' default hyper-parameters as this is a baseline model."
   ]
  },
  {
   "cell_type": "code",
   "execution_count": 10,
   "metadata": {},
   "outputs": [
    {
     "name": "stdout",
     "output_type": "stream",
     "text": [
      "_________________________________________________________________\n",
      "Layer (type)                 Output Shape              Param #   \n",
      "=================================================================\n",
      "embedding_1 (Embedding)      (None, 150, 25)           500000    \n",
      "_________________________________________________________________\n",
      "lstm_1 (LSTM)                (None, 32)                7424      \n",
      "_________________________________________________________________\n",
      "dense_1 (Dense)              (None, 1)                 33        \n",
      "=================================================================\n",
      "Total params: 507,457\n",
      "Trainable params: 507,457\n",
      "Non-trainable params: 0\n",
      "_________________________________________________________________\n"
     ]
    }
   ],
   "source": [
    "# Step 5: Define a model\n",
    "from keras.models import Sequential\n",
    "from keras.layers import Embedding, Flatten, Dense, LSTM\n",
    "\n",
    "model = Sequential()\n",
    "model.add(Embedding(max_words, embedding_dim, input_length=maxlen))\n",
    "model.add(LSTM(32))\n",
    "model.add(Dense(1, activation='sigmoid'))\n",
    "model.summary()"
   ]
  },
  {
   "cell_type": "markdown",
   "metadata": {},
   "source": [
    "### Step 6.: Freezing the weights of the embedding layer "
   ]
  },
  {
   "cell_type": "markdown",
   "metadata": {},
   "source": [
    "As we would like to use the weights trained by the GloVe network in our model, we need to set them at the embedding layer and also make them non-trainable (\"freeze\" them), otherwise the weights of the layer would be overriden with random values during the first epoch and so the whole point of using the GloVe network.   "
   ]
  },
  {
   "cell_type": "code",
   "execution_count": 11,
   "metadata": {},
   "outputs": [],
   "source": [
    "# Step 6: \"Freeze\" the weights on our pre-trained GloVe network.\n",
    "model.layers[0].set_weights([embedding_matrix])\n",
    "model.layers[0].trainable = False"
   ]
  },
  {
   "cell_type": "markdown",
   "metadata": {},
   "source": [
    "### Step 7.: Compiling the model "
   ]
  },
  {
   "cell_type": "markdown",
   "metadata": {},
   "source": [
    "Finally, we can compile the model and see the first results!"
   ]
  },
  {
   "cell_type": "code",
   "execution_count": 12,
   "metadata": {
    "scrolled": true
   },
   "outputs": [
    {
     "name": "stdout",
     "output_type": "stream",
     "text": [
      "Train on 120000 samples, validate on 30000 samples\n",
      "Epoch 1/10\n",
      "120000/120000 [==============================] - 210s 2ms/step - loss: 0.6535 - acc: 0.6114 - val_loss: 0.6856 - val_acc: 0.5294\n",
      "Epoch 2/10\n",
      "120000/120000 [==============================] - 233s 2ms/step - loss: 0.5845 - acc: 0.6991 - val_loss: 0.6456 - val_acc: 0.6747\n",
      "Epoch 3/10\n",
      "120000/120000 [==============================] - 264s 2ms/step - loss: 0.4638 - acc: 0.7886 - val_loss: 0.4129 - val_acc: 0.8196\n",
      "Epoch 4/10\n",
      "120000/120000 [==============================] - 263s 2ms/step - loss: 0.4140 - acc: 0.8178 - val_loss: 0.4119 - val_acc: 0.8246\n",
      "Epoch 5/10\n",
      "120000/120000 [==============================] - 266s 2ms/step - loss: 0.3896 - acc: 0.8300 - val_loss: 0.3688 - val_acc: 0.8419\n",
      "Epoch 6/10\n",
      "120000/120000 [==============================] - 259s 2ms/step - loss: 0.3689 - acc: 0.8405 - val_loss: 0.3483 - val_acc: 0.8494\n",
      "Epoch 7/10\n",
      "120000/120000 [==============================] - 260s 2ms/step - loss: 0.3529 - acc: 0.8484 - val_loss: 0.3431 - val_acc: 0.8499\n",
      "Epoch 8/10\n",
      "120000/120000 [==============================] - 264s 2ms/step - loss: 0.3407 - acc: 0.8547 - val_loss: 0.3377 - val_acc: 0.8633\n",
      "Epoch 9/10\n",
      "120000/120000 [==============================] - 249s 2ms/step - loss: 0.3296 - acc: 0.8600 - val_loss: 0.3195 - val_acc: 0.8616\n",
      "Epoch 10/10\n",
      "120000/120000 [==============================] - 250s 2ms/step - loss: 0.3218 - acc: 0.8637 - val_loss: 0.3453 - val_acc: 0.8636\n"
     ]
    }
   ],
   "source": [
    "# Step 7: Compile the model \n",
    "model.compile(optimizer='rmsprop',\n",
    "              loss='binary_crossentropy',\n",
    "              metrics=['acc'])\n",
    "history = model.fit(x_train, y_train,\n",
    "                    epochs=10,\n",
    "                    batch_size=128,\n",
    "                    validation_data=(x_val,y_val))"
   ]
  },
  {
   "cell_type": "code",
   "execution_count": 11,
   "metadata": {},
   "outputs": [],
   "source": [
    "# This is my own source code which I used in the first coursework. \n",
    "import matplotlib.pyplot as plt\n",
    "def plotFunc(isLossPlot, epochsNum, train_LossOrAcc, val_LossOrAcc):\n",
    "    \"\"\"Plots either a train & val loss (when isLossPlot is True) or the accuracy\"\"\"\n",
    "    plt.clf() #Clear any previous plot\n",
    "    if isLossPlot: \n",
    "        label1 = 'Training loss'\n",
    "        label2 = 'Validation loss'\n",
    "    else: \n",
    "        label1 = 'Training accuracy'\n",
    "        label2 = 'Validation accuracy'\n",
    "    plt.plot(epochsNum, train_LossOrAcc, 'bo', label =label1)\n",
    "    plt.plot(epochsNum, val_LossOrAcc, 'b', label = label2)  \n",
    "    plt.xlabel('Epochs')\n",
    "    # We repeat the condition to correctly name the ylabel. \n",
    "    # NB. We could avoid repeating the conditional by just extracting/slicing the second word from the label 1 or 2 \n",
    "    # but for an increased readability I left it this way. \n",
    "    if isLossPlot:\n",
    "        plt.title(\"Training and validation loss\")\n",
    "        plt.ylabel('Loss')\n",
    "    else: \n",
    "        plt.title(\"Training and validation accuracy\")\n",
    "        plt.ylabel('Accuracy')\n",
    "    plt.legend()"
   ]
  },
  {
   "cell_type": "code",
   "execution_count": 16,
   "metadata": {},
   "outputs": [
    {
     "data": {
      "image/png": "[encoded data removed]",
      "text/plain": [
       "<Figure size 432x288 with 1 Axes>"
      ]
     },
     "metadata": {
      "needs_background": "light"
     },
     "output_type": "display_data"
    }
   ],
   "source": [
    "history_dict = history.history\n",
    "loss = history_dict['loss']\n",
    "val_loss = history_dict['val_loss']\n",
    "epochs = range(1, len(loss) + 1)\n",
    "\n",
    "plotFunc( True,epochs, loss, val_loss)"
   ]
  },
  {
   "cell_type": "code",
   "execution_count": 17,
   "metadata": {},
   "outputs": [
    {
     "data": {
      "image/png": "[encoded data removed]",
      "text/plain": [
       "<Figure size 432x288 with 1 Axes>"
      ]
     },
     "metadata": {
      "needs_background": "light"
     },
     "output_type": "display_data"
    }
   ],
   "source": [
    "acc = history_dict['acc']\n",
    "val_acc = history_dict['val_acc']\n",
    "\n",
    "plotFunc(False, epochs, acc, val_acc)"
   ]
  },
  {
   "cell_type": "markdown",
   "metadata": {},
   "source": [
    "## The result"
   ]
  },
  {
   "cell_type": "markdown",
   "metadata": {},
   "source": [
    "The model performed very well given being a baseline network with default parameters, however, it is very important to notice one phenomenon: it took  **42 min and 33s** to train it! Let us see how the 1D compares to that level. "
   ]
  },
  {
   "cell_type": "markdown",
   "metadata": {},
   "source": [
    "## 1D Convnet-based baseline model: "
   ]
  },
  {
   "cell_type": "code",
   "execution_count": 7,
   "metadata": {},
   "outputs": [
    {
     "name": "stdout",
     "output_type": "stream",
     "text": [
      "_________________________________________________________________\n",
      "Layer (type)                 Output Shape              Param #   \n",
      "=================================================================\n",
      "embedding_1 (Embedding)      (None, 150, 25)           500000    \n",
      "_________________________________________________________________\n",
      "conv1d_1 (Conv1D)            (None, 150, 32)           4032      \n",
      "_________________________________________________________________\n",
      "max_pooling1d_1 (MaxPooling1 (None, 30, 32)            0         \n",
      "_________________________________________________________________\n",
      "conv1d_2 (Conv1D)            (None, 30, 32)            5152      \n",
      "_________________________________________________________________\n",
      "global_max_pooling1d_1 (Glob (None, 32)                0         \n",
      "_________________________________________________________________\n",
      "dense_1 (Dense)              (None, 1)                 33        \n",
      "=================================================================\n",
      "Total params: 509,217\n",
      "Trainable params: 509,217\n",
      "Non-trainable params: 0\n",
      "_________________________________________________________________\n"
     ]
    }
   ],
   "source": [
    "from keras.models import Sequential\n",
    "from keras import layers\n",
    "from keras.optimizers import RMSprop\n",
    "\n",
    "model2 = Sequential()\n",
    "model2.add(layers.Embedding(max_words, embedding_dim, input_length=maxlen))\n",
    "model2.add(layers.Conv1D(32, 5, activation='relu', padding='same'))\n",
    "model2.add(layers.MaxPooling1D(5))\n",
    "model2.add(layers.Conv1D(32, 5, activation='relu', padding='same'))\n",
    "model2.add(layers.GlobalMaxPooling1D())\n",
    "model2.add(layers.Dense(1, activation='sigmoid'))\n",
    "\n",
    "model2.summary()"
   ]
  },
  {
   "cell_type": "code",
   "execution_count": 8,
   "metadata": {},
   "outputs": [],
   "source": [
    "model2.layers[0].set_weights([embedding_matrix])\n",
    "model2.layers[0].trainable = False"
   ]
  },
  {
   "cell_type": "code",
   "execution_count": 9,
   "metadata": {},
   "outputs": [
    {
     "name": "stdout",
     "output_type": "stream",
     "text": [
      "Train on 120000 samples, validate on 30000 samples\n",
      "Epoch 1/10\n",
      "120000/120000 [==============================] - 52s 433us/step - loss: 0.4945 - acc: 0.7536 - val_loss: 0.4086 - val_acc: 0.8130\n",
      "Epoch 2/10\n",
      "120000/120000 [==============================] - 53s 439us/step - loss: 0.3918 - acc: 0.8228 - val_loss: 0.3615 - val_acc: 0.8417\n",
      "Epoch 3/10\n",
      "120000/120000 [==============================] - 53s 443us/step - loss: 0.3650 - acc: 0.8386 - val_loss: 0.3696 - val_acc: 0.8364\n",
      "Epoch 4/10\n",
      "120000/120000 [==============================] - 55s 459us/step - loss: 0.3487 - acc: 0.8467 - val_loss: 0.3692 - val_acc: 0.8352\n",
      "Epoch 5/10\n",
      "120000/120000 [==============================] - 52s 435us/step - loss: 0.3377 - acc: 0.8538 - val_loss: 0.3419 - val_acc: 0.8516\n",
      "Epoch 6/10\n",
      "120000/120000 [==============================] - 53s 439us/step - loss: 0.3279 - acc: 0.8579 - val_loss: 0.3878 - val_acc: 0.8298\n",
      "Epoch 7/10\n",
      "120000/120000 [==============================] - 53s 443us/step - loss: 0.3208 - acc: 0.8613 - val_loss: 0.3274 - val_acc: 0.8605\n",
      "Epoch 8/10\n",
      "120000/120000 [==============================] - 52s 430us/step - loss: 0.3144 - acc: 0.8652 - val_loss: 0.3494 - val_acc: 0.8477\n",
      "Epoch 9/10\n",
      "120000/120000 [==============================] - 52s 433us/step - loss: 0.3098 - acc: 0.8667 - val_loss: 0.3368 - val_acc: 0.8549\n",
      "Epoch 10/10\n",
      "120000/120000 [==============================] - 52s 436us/step - loss: 0.3050 - acc: 0.8701 - val_loss: 0.3667 - val_acc: 0.8383\n"
     ]
    }
   ],
   "source": [
    "model2.compile(optimizer='rmsprop',\n",
    "              loss='binary_crossentropy',\n",
    "              metrics=['acc'])\n",
    "history2 = model2.fit(x_train, y_train,\n",
    "                    epochs=10,\n",
    "                    batch_size=128,\n",
    "                    validation_data=(x_val,y_val))"
   ]
  },
  {
   "cell_type": "code",
   "execution_count": 12,
   "metadata": {},
   "outputs": [
    {
     "data": {
      "image/png": "[encoded data removed]",
      "text/plain": [
       "<Figure size 432x288 with 1 Axes>"
      ]
     },
     "metadata": {
      "needs_background": "light"
     },
     "output_type": "display_data"
    }
   ],
   "source": [
    "history_dict = history2.history\n",
    "loss = history_dict['loss']\n",
    "val_loss = history_dict['val_loss']\n",
    "epochs = range(1, len(loss) + 1)\n",
    "\n",
    "plotFunc( True,epochs, loss, val_loss)"
   ]
  },
  {
   "cell_type": "code",
   "execution_count": 13,
   "metadata": {},
   "outputs": [
    {
     "data": {
      "image/png": "[encoded data removed]",
      "text/plain": [
       "<Figure size 432x288 with 1 Axes>"
      ]
     },
     "metadata": {
      "needs_background": "light"
     },
     "output_type": "display_data"
    }
   ],
   "source": [
    "acc = history_dict['acc']\n",
    "val_acc = history_dict['val_acc']\n",
    "\n",
    "plotFunc(False, epochs, acc, val_acc)"
   ]
  },
  {
   "cell_type": "markdown",
   "metadata": {},
   "source": [
    "# First conclusion: 1D convnets take 5x less time! "
   ]
  },
  {
   "cell_type": "markdown",
   "metadata": {},
   "source": [
    "While it might be arguable whether the baseline Convnet achieved more or less same score (we can see RNN had much more stable results, nonetheless achieving nearly the same high score), one observation is striking: training this convnet took **9  min 44s**, it's around 33mins quicker and nearly a fifth of time necessary to train our RNN. \n",
    "Therefore, due to lack of computational resources I must put a verdict: "
   ]
  },
  {
   "cell_type": "markdown",
   "metadata": {},
   "source": [
    "## For my specific task (and given my hardware level) the 1D convnet is a winner even by comparing just the baseline versions of the models. "
   ]
  },
  {
   "cell_type": "markdown",
   "metadata": {},
   "source": [
    "# Further optimisation of the Convnet"
   ]
  },
  {
   "cell_type": "markdown",
   "metadata": {},
   "source": [
    "As the last part of this experiment, given the preffered structure is already chosen, I will try to tweak the baseline model"
   ]
  },
  {
   "cell_type": "markdown",
   "metadata": {},
   "source": [
    "#### Removing the same padding"
   ]
  },
  {
   "cell_type": "code",
   "execution_count": 21,
   "metadata": {},
   "outputs": [
    {
     "name": "stdout",
     "output_type": "stream",
     "text": [
      "_________________________________________________________________\n",
      "Layer (type)                 Output Shape              Param #   \n",
      "=================================================================\n",
      "embedding_6 (Embedding)      (None, 150, 25)           500000    \n",
      "_________________________________________________________________\n",
      "conv1d_11 (Conv1D)           (None, 146, 32)           4032      \n",
      "_________________________________________________________________\n",
      "max_pooling1d_6 (MaxPooling1 (None, 29, 32)            0         \n",
      "_________________________________________________________________\n",
      "conv1d_12 (Conv1D)           (None, 25, 32)            5152      \n",
      "_________________________________________________________________\n",
      "global_max_pooling1d_6 (Glob (None, 32)                0         \n",
      "_________________________________________________________________\n",
      "dense_6 (Dense)              (None, 1)                 33        \n",
      "=================================================================\n",
      "Total params: 509,217\n",
      "Trainable params: 509,217\n",
      "Non-trainable params: 0\n",
      "_________________________________________________________________\n"
     ]
    }
   ],
   "source": [
    "from keras.models import Sequential\n",
    "from keras import layers\n",
    "from keras.optimizers import RMSprop\n",
    "\n",
    "model2 = Sequential()\n",
    "model2.add(layers.Embedding(max_words, embedding_dim, input_length=maxlen))\n",
    "model2.add(layers.Conv1D(32, 5, activation='relu'))\n",
    "model2.add(layers.MaxPooling1D(5))\n",
    "model2.add(layers.Conv1D(32, 5, activation='relu'))\n",
    "model2.add(layers.GlobalMaxPooling1D())\n",
    "model2.add(layers.Dense(1, activation='sigmoid'))\n",
    "\n",
    "model2.summary()\n"
   ]
  },
  {
   "cell_type": "code",
   "execution_count": 22,
   "metadata": {},
   "outputs": [
    {
     "name": "stdout",
     "output_type": "stream",
     "text": [
      "Train on 120000 samples, validate on 30000 samples\n",
      "Epoch 1/10\n",
      "120000/120000 [==============================] - 48s 398us/step - loss: 0.5646 - acc: 0.7014 - val_loss: 0.4972 - val_acc: 0.7608\n",
      "Epoch 2/10\n",
      "120000/120000 [==============================] - 49s 406us/step - loss: 0.4620 - acc: 0.7815 - val_loss: 0.4401 - val_acc: 0.7927\n",
      "Epoch 3/10\n",
      "120000/120000 [==============================] - 47s 392us/step - loss: 0.4242 - acc: 0.8047 - val_loss: 0.4789 - val_acc: 0.7742\n",
      "Epoch 4/10\n",
      "120000/120000 [==============================] - 48s 399us/step - loss: 0.4011 - acc: 0.8178 - val_loss: 0.4250 - val_acc: 0.8064\n",
      "Epoch 5/10\n",
      "120000/120000 [==============================] - 50s 416us/step - loss: 0.3854 - acc: 0.8267 - val_loss: 0.4618 - val_acc: 0.7869\n",
      "Epoch 6/10\n",
      "120000/120000 [==============================] - 49s 410us/step - loss: 0.3760 - acc: 0.8323 - val_loss: 0.4112 - val_acc: 0.8133\n",
      "Epoch 7/10\n",
      "120000/120000 [==============================] - 49s 411us/step - loss: 0.3653 - acc: 0.8383 - val_loss: 0.3933 - val_acc: 0.8226\n",
      "Epoch 8/10\n",
      "120000/120000 [==============================] - 50s 413us/step - loss: 0.3584 - acc: 0.8420 - val_loss: 0.3799 - val_acc: 0.8286\n",
      "Epoch 9/10\n",
      "120000/120000 [==============================] - 49s 411us/step - loss: 0.3514 - acc: 0.8452 - val_loss: 0.3698 - val_acc: 0.8343\n",
      "Epoch 10/10\n",
      "120000/120000 [==============================] - 50s 416us/step - loss: 0.3469 - acc: 0.8478 - val_loss: 0.4075 - val_acc: 0.8157\n"
     ]
    }
   ],
   "source": [
    "model2.layers[0].set_weights([embedding_matrix])\n",
    "model2.layers[0].trainable = False\n",
    "\n",
    "model2.compile(optimizer='rmsprop',\n",
    "              loss='binary_crossentropy',\n",
    "              metrics=['acc'])\n",
    "history2 = model2.fit(x_train, y_train,\n",
    "                    epochs=10,\n",
    "                    batch_size=128,\n",
    "                    validation_data=(x_val,y_val),\n",
    "                    verbose=1)"
   ]
  },
  {
   "cell_type": "code",
   "execution_count": 23,
   "metadata": {},
   "outputs": [
    {
     "data": {
      "image/png": "[encoded data removed]",
      "text/plain": [
       "<Figure size 432x288 with 1 Axes>"
      ]
     },
     "metadata": {
      "needs_background": "light"
     },
     "output_type": "display_data"
    }
   ],
   "source": [
    "history_dict = history2.history\n",
    "loss = history_dict['loss']\n",
    "val_loss = history_dict['val_loss']\n",
    "epochs = range(1, len(loss) + 1)\n",
    "\n",
    "plotFunc( True,epochs, loss, val_loss)"
   ]
  },
  {
   "cell_type": "code",
   "execution_count": 24,
   "metadata": {},
   "outputs": [
    {
     "data": {
      "image/png": "[encoded data removed]",
      "text/plain": [
       "<Figure size 432x288 with 1 Axes>"
      ]
     },
     "metadata": {
      "needs_background": "light"
     },
     "output_type": "display_data"
    }
   ],
   "source": [
    "acc = history_dict['acc']\n",
    "val_acc = history_dict['val_acc']\n",
    "\n",
    "plotFunc(False, epochs, acc, val_acc)"
   ]
  },
  {
   "cell_type": "markdown",
   "metadata": {},
   "source": [
    "#### Adding regularization + dropout and increasing the number of epochs "
   ]
  },
  {
   "cell_type": "code",
   "execution_count": 31,
   "metadata": {},
   "outputs": [
    {
     "name": "stdout",
     "output_type": "stream",
     "text": [
      "_________________________________________________________________\n",
      "Layer (type)                 Output Shape              Param #   \n",
      "=================================================================\n",
      "embedding_13 (Embedding)     (None, 150, 25)           500000    \n",
      "_________________________________________________________________\n",
      "conv1d_24 (Conv1D)           (None, 150, 32)           4032      \n",
      "_________________________________________________________________\n",
      "max_pooling1d_13 (MaxPooling (None, 30, 32)            0         \n",
      "_________________________________________________________________\n",
      "conv1d_25 (Conv1D)           (None, 30, 32)            5152      \n",
      "_________________________________________________________________\n",
      "global_max_pooling1d_12 (Glo (None, 32)                0         \n",
      "_________________________________________________________________\n",
      "dense_11 (Dense)             (None, 1)                 33        \n",
      "=================================================================\n",
      "Total params: 509,217\n",
      "Trainable params: 9,217\n",
      "Non-trainable params: 500,000\n",
      "_________________________________________________________________\n"
     ]
    }
   ],
   "source": [
    "from keras.models import Sequential\n",
    "from keras import layers\n",
    "from keras.optimizers import RMSprop\n",
    "from keras import regularizers\n",
    "\n",
    "model2 = Sequential()\n",
    "model2.add(layers.Embedding(max_words, embedding_dim, input_length=maxlen))\n",
    "model2.add(layers.Conv1D(32, 5, activation='relu', padding='same', kernel_regularizer=regularizers.l2(0.02)))\n",
    "model2.add(layers.MaxPooling1D(5))\n",
    "# model2.add(layers.Dropout(0.2))\n",
    "model2.add(layers.Conv1D(32, 5, activation='relu', padding='same', kernel_regularizer=regularizers.l2(0.02)))\n",
    "model2.add(layers.GlobalMaxPooling1D())\n",
    "# model2.add(layers.Dropout(0.2))\n",
    "model2.add(layers.Dense(1, activation='sigmoid', kernel_regularizer=regularizers.l2(0.01)))\n",
    "\n",
    "model2.layers[0].set_weights([embedding_matrix])\n",
    "model2.layers[0].trainable = False\n",
    "\n",
    "model2.summary()\n"
   ]
  },
  {
   "cell_type": "code",
   "execution_count": 32,
   "metadata": {},
   "outputs": [
    {
     "name": "stdout",
     "output_type": "stream",
     "text": [
      "Train on 120000 samples, validate on 30000 samples\n",
      "Epoch 1/10\n",
      "120000/120000 [==============================] - 52s 432us/step - loss: 0.7321 - acc: 0.7234 - val_loss: 0.5827 - val_acc: 0.7990\n",
      "Epoch 2/10\n",
      "120000/120000 [==============================] - 51s 426us/step - loss: 0.5911 - acc: 0.7850 - val_loss: 0.5814 - val_acc: 0.7878\n",
      "Epoch 3/10\n",
      "120000/120000 [==============================] - 54s 454us/step - loss: 0.5797 - acc: 0.7933 - val_loss: 0.5604 - val_acc: 0.8137\n",
      "Epoch 4/10\n",
      "120000/120000 [==============================] - 53s 438us/step - loss: 0.5754 - acc: 0.7966 - val_loss: 0.5599 - val_acc: 0.8087\n",
      "Epoch 5/10\n",
      "120000/120000 [==============================] - 53s 442us/step - loss: 0.5735 - acc: 0.7979 - val_loss: 0.6119 - val_acc: 0.7612\n",
      "Epoch 6/10\n",
      "120000/120000 [==============================] - 53s 443us/step - loss: 0.5721 - acc: 0.7981 - val_loss: 0.5608 - val_acc: 0.8065\n",
      "Epoch 7/10\n",
      "120000/120000 [==============================] - 52s 437us/step - loss: 0.5714 - acc: 0.7991 - val_loss: 0.5593 - val_acc: 0.8082\n",
      "Epoch 8/10\n",
      "120000/120000 [==============================] - 55s 455us/step - loss: 0.5715 - acc: 0.7988 - val_loss: 0.5592 - val_acc: 0.8083\n",
      "Epoch 9/10\n",
      "120000/120000 [==============================] - 53s 439us/step - loss: 0.5707 - acc: 0.7996 - val_loss: 0.5563 - val_acc: 0.8117\n",
      "Epoch 10/10\n",
      "120000/120000 [==============================] - 53s 439us/step - loss: 0.5701 - acc: 0.8004 - val_loss: 0.5660 - val_acc: 0.8011\n"
     ]
    }
   ],
   "source": [
    "model2.compile(optimizer='rmsprop',\n",
    "              loss='binary_crossentropy',\n",
    "              metrics=['acc'])\n",
    "history2 = model2.fit(x_train, y_train,\n",
    "                    epochs=10,\n",
    "                    batch_size=128,\n",
    "                    validation_data=(x_val,y_val),\n",
    "                    verbose=1)"
   ]
  },
  {
   "cell_type": "code",
   "execution_count": 33,
   "metadata": {},
   "outputs": [
    {
     "data": {
      "image/png": "[encoded data removed]",
      "text/plain": [
       "<Figure size 432x288 with 1 Axes>"
      ]
     },
     "metadata": {
      "needs_background": "light"
     },
     "output_type": "display_data"
    }
   ],
   "source": [
    "history_dict = history2.history\n",
    "loss = history_dict['loss']\n",
    "val_loss = history_dict['val_loss']\n",
    "epochs = range(1, len(loss) + 1)\n",
    "\n",
    "plotFunc( True,epochs, loss, val_loss)"
   ]
  },
  {
   "cell_type": "code",
   "execution_count": 34,
   "metadata": {},
   "outputs": [
    {
     "data": {
      "image/png": "[encoded data removed]",
      "text/plain": [
       "<Figure size 432x288 with 1 Axes>"
      ]
     },
     "metadata": {
      "needs_background": "light"
     },
     "output_type": "display_data"
    }
   ],
   "source": [
    "acc = history_dict['acc']\n",
    "val_acc = history_dict['val_acc']\n",
    "\n",
    "plotFunc(False, epochs, acc, val_acc)"
   ]
  },
  {
   "cell_type": "markdown",
   "metadata": {},
   "source": [
    "Final version of the model"
   ]
  },
  {
   "cell_type": "code",
   "execution_count": 36,
   "metadata": {},
   "outputs": [
    {
     "name": "stdout",
     "output_type": "stream",
     "text": [
      "_________________________________________________________________\n",
      "Layer (type)                 Output Shape              Param #   \n",
      "=================================================================\n",
      "embedding_14 (Embedding)     (None, 150, 25)           500000    \n",
      "_________________________________________________________________\n",
      "conv1d_26 (Conv1D)           (None, 150, 32)           4032      \n",
      "_________________________________________________________________\n",
      "max_pooling1d_14 (MaxPooling (None, 30, 32)            0         \n",
      "_________________________________________________________________\n",
      "dropout_5 (Dropout)          (None, 30, 32)            0         \n",
      "_________________________________________________________________\n",
      "conv1d_27 (Conv1D)           (None, 30, 32)            5152      \n",
      "_________________________________________________________________\n",
      "global_max_pooling1d_13 (Glo (None, 32)                0         \n",
      "_________________________________________________________________\n",
      "dropout_6 (Dropout)          (None, 32)                0         \n",
      "_________________________________________________________________\n",
      "dense_12 (Dense)             (None, 1)                 33        \n",
      "=================================================================\n",
      "Total params: 509,217\n",
      "Trainable params: 9,217\n",
      "Non-trainable params: 500,000\n",
      "_________________________________________________________________\n"
     ]
    }
   ],
   "source": [
    "from keras.models import Sequential\n",
    "from keras import layers\n",
    "from keras.optimizers import RMSprop\n",
    "from keras import regularizers\n",
    "\n",
    "model2 = Sequential()\n",
    "model2.add(layers.Embedding(max_words, embedding_dim, input_length=maxlen))\n",
    "model2.add(layers.Conv1D(32, 5, activation='relu', padding='same', kernel_regularizer=regularizers.l2(0.01)))\n",
    "model2.add(layers.MaxPooling1D(5))\n",
    "model2.add(layers.Dropout(0.1))\n",
    "model2.add(layers.Conv1D(32, 5, activation='relu', padding='same', kernel_regularizer=regularizers.l2(0.01)))\n",
    "model2.add(layers.GlobalMaxPooling1D())\n",
    "model2.add(layers.Dropout(0.1))\n",
    "model2.add(layers.Dense(1, activation='sigmoid', kernel_regularizer=regularizers.l2(0.01)))\n",
    "\n",
    "model2.layers[0].set_weights([embedding_matrix])\n",
    "model2.layers[0].trainable = False\n",
    "\n",
    "model2.summary()"
   ]
  },
  {
   "cell_type": "code",
   "execution_count": 39,
   "metadata": {},
   "outputs": [
    {
     "name": "stdout",
     "output_type": "stream",
     "text": [
      "Train on 120000 samples, validate on 30000 samples\n",
      "Epoch 1/9\n",
      "120000/120000 [==============================] - 58s 485us/step - loss: 0.6924 - acc: 0.7318 - val_loss: 0.5494 - val_acc: 0.7964\n",
      "Epoch 2/9\n",
      "120000/120000 [==============================] - 56s 471us/step - loss: 0.5509 - acc: 0.7925 - val_loss: 0.5623 - val_acc: 0.7730\n",
      "Epoch 3/9\n",
      "120000/120000 [==============================] - 58s 481us/step - loss: 0.5430 - acc: 0.7977 - val_loss: 0.5180 - val_acc: 0.8137\n",
      "Epoch 4/9\n",
      "120000/120000 [==============================] - 57s 471us/step - loss: 0.5398 - acc: 0.7974 - val_loss: 0.5146 - val_acc: 0.8166\n",
      "Epoch 5/9\n",
      "120000/120000 [==============================] - 57s 476us/step - loss: 0.5371 - acc: 0.8005 - val_loss: 0.5113 - val_acc: 0.8199\n",
      "Epoch 6/9\n",
      "120000/120000 [==============================] - 57s 473us/step - loss: 0.5363 - acc: 0.8012 - val_loss: 0.5183 - val_acc: 0.8150\n",
      "Epoch 7/9\n",
      "120000/120000 [==============================] - 57s 474us/step - loss: 0.5363 - acc: 0.8006 - val_loss: 0.5225 - val_acc: 0.8092\n",
      "Epoch 8/9\n",
      "120000/120000 [==============================] - 57s 475us/step - loss: 0.5357 - acc: 0.8022 - val_loss: 0.5138 - val_acc: 0.8216\n",
      "Epoch 9/9\n",
      "120000/120000 [==============================] - 55s 458us/step - loss: 0.5355 - acc: 0.8021 - val_loss: 0.5178 - val_acc: 0.8124\n"
     ]
    }
   ],
   "source": [
    "model2.compile(optimizer='rmsprop',\n",
    "              loss='binary_crossentropy',\n",
    "              metrics=['acc'])\n",
    "history2 = model2.fit(x_train, y_train,\n",
    "                    epochs=9,\n",
    "                    batch_size=128,\n",
    "                    validation_data=(x_val,y_val),\n",
    "                    verbose=1)"
   ]
  },
  {
   "cell_type": "code",
   "execution_count": 40,
   "metadata": {},
   "outputs": [
    {
     "data": {
      "image/png": "[encoded data removed]",
      "text/plain": [
       "<Figure size 432x288 with 1 Axes>"
      ]
     },
     "metadata": {
      "needs_background": "light"
     },
     "output_type": "display_data"
    }
   ],
   "source": [
    "history_dict = history2.history\n",
    "loss = history_dict['loss']\n",
    "val_loss = history_dict['val_loss']\n",
    "epochs = range(1, len(loss) + 1)\n",
    "\n",
    "plotFunc( True,epochs, loss, val_loss)"
   ]
  },
  {
   "cell_type": "code",
   "execution_count": 41,
   "metadata": {},
   "outputs": [
    {
     "data": {
      "image/png": "[encoded data removed]",
      "text/plain": [
       "<Figure size 432x288 with 1 Axes>"
      ]
     },
     "metadata": {
      "needs_background": "light"
     },
     "output_type": "display_data"
    }
   ],
   "source": [
    "acc = history_dict['acc']\n",
    "val_acc = history_dict['val_acc']\n",
    "\n",
    "plotFunc(False, epochs, acc, val_acc)"
   ]
  },
  {
   "cell_type": "markdown",
   "metadata": {},
   "source": [
    "### Running the neutwork on the test set.  "
   ]
  },
  {
   "cell_type": "markdown",
   "metadata": {},
   "source": [
    "Let's tokenise the test data to run the final evaluation. "
   ]
  },
  {
   "cell_type": "code",
   "execution_count": 37,
   "metadata": {},
   "outputs": [],
   "source": [
    "test_sequences = tokenizer.texts_to_sequences(test_data)\n",
    "x_test = pad_sequences(test_sequences, maxlen=maxlen)\n",
    "y_test = np.asarray(labels)"
   ]
  },
  {
   "cell_type": "code",
   "execution_count": 42,
   "metadata": {},
   "outputs": [
    {
     "ename": "ValueError",
     "evalue": "Input arrays should have the same number of samples as target arrays. Found 50000 input samples and 150000 target samples.",
     "output_type": "error",
     "traceback": [
      "\u001b[1;31m---------------------------------------------------------------------------\u001b[0m",
      "\u001b[1;31mValueError\u001b[0m                                Traceback (most recent call last)",
      "\u001b[1;32m<ipython-input-42-fb9c88f82e25>\u001b[0m in \u001b[0;36m<module>\u001b[1;34m\u001b[0m\n\u001b[1;32m----> 1\u001b[1;33m \u001b[0mresults\u001b[0m \u001b[1;33m=\u001b[0m \u001b[0mmodel2\u001b[0m\u001b[1;33m.\u001b[0m\u001b[0mevaluate\u001b[0m\u001b[1;33m(\u001b[0m\u001b[0mx_test\u001b[0m\u001b[1;33m,\u001b[0m \u001b[0my_test\u001b[0m\u001b[1;33m)\u001b[0m\u001b[1;33m\u001b[0m\u001b[1;33m\u001b[0m\u001b[0m\n\u001b[0m",
      "\u001b[1;32m~\\AppData\\Local\\conda\\conda\\envs\\AI\\lib\\site-packages\\keras\\engine\\training.py\u001b[0m in \u001b[0;36mevaluate\u001b[1;34m(self, x, y, batch_size, verbose, sample_weight, steps)\u001b[0m\n\u001b[0;32m   1100\u001b[0m             \u001b[0mx\u001b[0m\u001b[1;33m,\u001b[0m \u001b[0my\u001b[0m\u001b[1;33m,\u001b[0m\u001b[1;33m\u001b[0m\u001b[1;33m\u001b[0m\u001b[0m\n\u001b[0;32m   1101\u001b[0m             \u001b[0msample_weight\u001b[0m\u001b[1;33m=\u001b[0m\u001b[0msample_weight\u001b[0m\u001b[1;33m,\u001b[0m\u001b[1;33m\u001b[0m\u001b[1;33m\u001b[0m\u001b[0m\n\u001b[1;32m-> 1102\u001b[1;33m             batch_size=batch_size)\n\u001b[0m\u001b[0;32m   1103\u001b[0m         \u001b[1;31m# Prepare inputs, delegate logic to `test_loop`.\u001b[0m\u001b[1;33m\u001b[0m\u001b[1;33m\u001b[0m\u001b[1;33m\u001b[0m\u001b[0m\n\u001b[0;32m   1104\u001b[0m         \u001b[1;32mif\u001b[0m \u001b[0mself\u001b[0m\u001b[1;33m.\u001b[0m\u001b[0m_uses_dynamic_learning_phase\u001b[0m\u001b[1;33m(\u001b[0m\u001b[1;33m)\u001b[0m\u001b[1;33m:\u001b[0m\u001b[1;33m\u001b[0m\u001b[1;33m\u001b[0m\u001b[0m\n",
      "\u001b[1;32m~\\AppData\\Local\\conda\\conda\\envs\\AI\\lib\\site-packages\\keras\\engine\\training.py\u001b[0m in \u001b[0;36m_standardize_user_data\u001b[1;34m(self, x, y, sample_weight, class_weight, check_array_lengths, batch_size)\u001b[0m\n\u001b[0;32m    802\u001b[0m             ]\n\u001b[0;32m    803\u001b[0m             \u001b[1;31m# Check that all arrays have the same length.\u001b[0m\u001b[1;33m\u001b[0m\u001b[1;33m\u001b[0m\u001b[1;33m\u001b[0m\u001b[0m\n\u001b[1;32m--> 804\u001b[1;33m             \u001b[0mcheck_array_length_consistency\u001b[0m\u001b[1;33m(\u001b[0m\u001b[0mx\u001b[0m\u001b[1;33m,\u001b[0m \u001b[0my\u001b[0m\u001b[1;33m,\u001b[0m \u001b[0msample_weights\u001b[0m\u001b[1;33m)\u001b[0m\u001b[1;33m\u001b[0m\u001b[1;33m\u001b[0m\u001b[0m\n\u001b[0m\u001b[0;32m    805\u001b[0m             \u001b[1;32mif\u001b[0m \u001b[0mself\u001b[0m\u001b[1;33m.\u001b[0m\u001b[0m_is_graph_network\u001b[0m\u001b[1;33m:\u001b[0m\u001b[1;33m\u001b[0m\u001b[1;33m\u001b[0m\u001b[0m\n\u001b[0;32m    806\u001b[0m                 \u001b[1;31m# Additional checks to avoid users mistakenly\u001b[0m\u001b[1;33m\u001b[0m\u001b[1;33m\u001b[0m\u001b[1;33m\u001b[0m\u001b[0m\n",
      "\u001b[1;32m~\\AppData\\Local\\conda\\conda\\envs\\AI\\lib\\site-packages\\keras\\engine\\training_utils.py\u001b[0m in \u001b[0;36mcheck_array_length_consistency\u001b[1;34m(inputs, targets, weights)\u001b[0m\n\u001b[0;32m    235\u001b[0m                          \u001b[1;34m'the same number of samples as target arrays. '\u001b[0m\u001b[1;33m\u001b[0m\u001b[1;33m\u001b[0m\u001b[0m\n\u001b[0;32m    236\u001b[0m                          \u001b[1;34m'Found '\u001b[0m \u001b[1;33m+\u001b[0m \u001b[0mstr\u001b[0m\u001b[1;33m(\u001b[0m\u001b[0mlist\u001b[0m\u001b[1;33m(\u001b[0m\u001b[0mset_x\u001b[0m\u001b[1;33m)\u001b[0m\u001b[1;33m[\u001b[0m\u001b[1;36m0\u001b[0m\u001b[1;33m]\u001b[0m\u001b[1;33m)\u001b[0m \u001b[1;33m+\u001b[0m \u001b[1;34m' input samples '\u001b[0m\u001b[1;33m\u001b[0m\u001b[1;33m\u001b[0m\u001b[0m\n\u001b[1;32m--> 237\u001b[1;33m                          'and ' + str(list(set_y)[0]) + ' target samples.')\n\u001b[0m\u001b[0;32m    238\u001b[0m     \u001b[1;32mif\u001b[0m \u001b[0mlen\u001b[0m\u001b[1;33m(\u001b[0m\u001b[0mset_w\u001b[0m\u001b[1;33m)\u001b[0m \u001b[1;33m>\u001b[0m \u001b[1;36m1\u001b[0m\u001b[1;33m:\u001b[0m\u001b[1;33m\u001b[0m\u001b[1;33m\u001b[0m\u001b[0m\n\u001b[0;32m    239\u001b[0m         raise ValueError('All sample_weight arrays should have '\n",
      "\u001b[1;31mValueError\u001b[0m: Input arrays should have the same number of samples as target arrays. Found 50000 input samples and 150000 target samples."
     ]
    }
   ],
   "source": [
    "results = model2.evaluate(x_test, y_test)"
   ]
  },
  {
   "cell_type": "markdown",
   "metadata": {},
   "source": [
    "### Acknowledgement: I was not able to make the model to evaluate on the test data. "
   ]
  },
  {
   "cell_type": "markdown",
   "metadata": {},
   "source": [
    "# Conclusions: "
   ]
  },
  {
   "cell_type": "markdown",
   "metadata": {},
   "source": [
    "### 1. The 1D convolutional network appears to have slightly worse results than the baseline RNN network, however it took almost 5X less time to train during the experiments.  "
   ]
  },
  {
   "cell_type": "markdown",
   "metadata": {},
   "source": [
    "### 2. The majority of time in the experiment was taken to ensure the data is properly loaded and split into evenly-label portions."
   ]
  },
  {
   "cell_type": "markdown",
   "metadata": {},
   "source": [
    "### 3. This experiment is notably less in-depth in terms of the network trainings, mainly due to putting the pressure on acquiring outside-world data (I used the built-in IMDB dataset in the previous coursework) and correctly pre-processing it to fit our project."
   ]
  },
  {
   "cell_type": "markdown",
   "metadata": {},
   "source": [
    "# Extra notes: "
   ]
  },
  {
   "cell_type": "markdown",
   "metadata": {},
   "source": [
    "This experiment is much less thorough as I would like it to be, mainly due to the Tensorflow 1D convolutional network issue I struck upon and needed to solve, which is also explained in this thread:  https://github.com/tensorflow/tensorflow/issues/17945 "
   ]
  },
  {
   "cell_type": "markdown",
   "metadata": {},
   "source": [
    "# Bibliography:"
   ]
  },
  {
   "cell_type": "markdown",
   "metadata": {},
   "source": [
    "[1] Manning Publications, 2017, Chollet F., \"Deep Learning with Python\""
   ]
  }
 ],
 "metadata": {
  "kernelspec": {
   "display_name": "Python 3",
   "language": "python",
   "name": "python3"
  },
  "language_info": {
   "codemirror_mode": {
    "name": "ipython",
    "version": 3
   },
   "file_extension": ".py",
   "mimetype": "text/x-python",
   "name": "python",
   "nbconvert_exporter": "python",
   "pygments_lexer": "ipython3",
   "version": "3.6.8"
  }
 },
 "nbformat": 4,
 "nbformat_minor": 2
}
